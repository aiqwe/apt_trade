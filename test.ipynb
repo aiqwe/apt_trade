{
 "cells": [
  {
   "cell_type": "code",
   "execution_count": 2,
   "id": "3f383b86-6d22-4f4d-9117-bf3c116528d4",
   "metadata": {
    "execution": {
     "iopub.execute_input": "2024-09-10T12:41:44.037987Z",
     "iopub.status.busy": "2024-09-10T12:41:44.036884Z",
     "iopub.status.idle": "2024-09-10T12:41:44.072155Z",
     "shell.execute_reply": "2024-09-10T12:41:44.071825Z",
     "shell.execute_reply.started": "2024-09-10T12:41:44.037937Z"
    },
    "tags": []
   },
   "outputs": [],
   "source": [
    "from src.utils import get, get_lawd_cd, parse_xml\n",
    "import os\n",
    "from functools import partial\n",
    "from concurrent.futures import ThreadPoolExecutor\n",
    "from bs4 import BeautifulSoup\n",
    "import pandas as pd\n",
    "from loguru import logger\n",
    "from datetime import datetime\n",
    "from dateutil.relativedelta import relativedelta\n",
    "from tqdm import tqdm"
   ]
  },
  {
   "cell_type": "code",
   "execution_count": 38,
   "id": "287d8622-f35f-493c-90c2-81e6b35a0cb7",
   "metadata": {
    "execution": {
     "iopub.execute_input": "2024-09-10T12:52:30.107477Z",
     "iopub.status.busy": "2024-09-10T12:52:30.107145Z",
     "iopub.status.idle": "2024-09-10T12:52:30.117540Z",
     "shell.execute_reply": "2024-09-10T12:52:30.117100Z",
     "shell.execute_reply.started": "2024-09-10T12:52:30.107460Z"
    },
    "tags": []
   },
   "outputs": [
    {
     "ename": "NameError",
     "evalue": "name 'lawd_cd_list' is not defined",
     "output_type": "error",
     "traceback": [
      "\u001b[0;31m---------------------------------------------------------------------------\u001b[0m",
      "\u001b[0;31mNameError\u001b[0m                                 Traceback (most recent call last)",
      "Cell \u001b[0;32mIn[38], line 1\u001b[0m\n\u001b[0;32m----> 1\u001b[0m \u001b[44mlawd_cd_list\u001b[49m\n",
      "\u001b[0;31mNameError\u001b[0m: name 'lawd_cd_list' is not defined"
     ]
    }
   ],
   "source": [
    "lawd_cd_list"
   ]
  },
  {
   "cell_type": "code",
   "execution_count": 45,
   "id": "1643d8de-eec0-4a97-a2b8-a428f1843d78",
   "metadata": {
    "execution": {
     "iopub.execute_input": "2024-09-10T12:54:50.648274Z",
     "iopub.status.busy": "2024-09-10T12:54:50.647812Z",
     "iopub.status.idle": "2024-09-10T12:54:50.659647Z",
     "shell.execute_reply": "2024-09-10T12:54:50.657685Z",
     "shell.execute_reply.started": "2024-09-10T12:54:50.648235Z"
    },
    "tags": []
   },
   "outputs": [
    {
     "data": {
      "text/plain": [
       "11650"
      ]
     },
     "execution_count": 45,
     "metadata": {},
     "output_type": "execute_result"
    }
   ],
   "source": [
    "lawd_cd_list[0]"
   ]
  },
  {
   "cell_type": "code",
   "execution_count": null,
   "id": "f6f7d215-2576-4883-9898-05d3cb1df21a",
   "metadata": {},
   "outputs": [],
   "source": []
  },
  {
   "cell_type": "code",
   "execution_count": 49,
   "id": "d2d28411-6e3c-4056-b46c-640fc2986b28",
   "metadata": {
    "execution": {
     "iopub.execute_input": "2024-09-10T12:56:36.870429Z",
     "iopub.status.busy": "2024-09-10T12:56:36.869822Z",
     "iopub.status.idle": "2024-09-10T12:56:37.199610Z",
     "shell.execute_reply": "2024-09-10T12:56:37.199052Z",
     "shell.execute_reply.started": "2024-09-10T12:56:36.870393Z"
    },
    "tags": []
   },
   "outputs": [],
   "source": [
    "import requests\n",
    "\n",
    "serviceKey = \"\"\n",
    "LAWD_CD = 11110\n",
    "DEAL_YMD = '202407'\n",
    "pageNo = 1\n",
    "numOfRows=1\n",
    "\n",
    "url = \"https://apis.data.go.kr/1613000/RTMSDataSvcAptTradeDev/getRTMSDataSvcAptTradeDev\"\n",
    "url = url + f\"?serviceKey={serviceKey}&{LAWD_CD=}&{DEAL_YMD=}&{pageNo=}&{numOfRows=}\"\n",
    "\n",
    "response = requests.get(url)"
   ]
  },
  {
   "cell_type": "code",
   "execution_count": 52,
   "id": "cfc09fe0-ab84-4c7a-9d56-273861865cd7",
   "metadata": {
    "execution": {
     "iopub.execute_input": "2024-09-10T12:56:54.798331Z",
     "iopub.status.busy": "2024-09-10T12:56:54.797770Z",
     "iopub.status.idle": "2024-09-10T12:56:54.823780Z",
     "shell.execute_reply": "2024-09-10T12:56:54.823103Z",
     "shell.execute_reply.started": "2024-09-10T12:56:54.798300Z"
    },
    "tags": []
   },
   "outputs": [
    {
     "data": {
      "text/plain": [
       "'<?xml version=\"1.0\" encoding=\"utf-8\" standalone=\"yes\"?><response><header><resultCode>000</resultCode><resultMsg>OK</resultMsg></header><body><items/><numOfRows>1</numOfRows><pageNo>1</pageNo><totalCount>0</totalCount></body></response>'"
      ]
     },
     "execution_count": 52,
     "metadata": {},
     "output_type": "execute_result"
    }
   ],
   "source": [
    "response.text"
   ]
  },
  {
   "cell_type": "code",
   "execution_count": null,
   "id": "ccccc23e-2ae5-478b-9966-793238792d34",
   "metadata": {},
   "outputs": [],
   "source": [
    "lawd_cd[0]\n",
    "\n",
    "get(LAWD_CD=11650, DEAL_YMD=deal_ymd, pageNo=1, numOfRows=10)"
   ]
  },
  {
   "cell_type": "code",
   "execution_count": 43,
   "id": "a29acd04-57d2-468e-9618-9b01ce5450c5",
   "metadata": {
    "execution": {
     "iopub.execute_input": "2024-09-10T12:54:17.797361Z",
     "iopub.status.busy": "2024-09-10T12:54:17.796500Z",
     "iopub.status.idle": "2024-09-10T12:54:23.992831Z",
     "shell.execute_reply": "2024-09-10T12:54:23.989400Z",
     "shell.execute_reply.started": "2024-09-10T12:54:17.797316Z"
    },
    "tags": []
   },
   "outputs": [
    {
     "name": "stdout",
     "output_type": "stream",
     "text": [
      "11650\n",
      "202407\n"
     ]
    },
    {
     "name": "stderr",
     "output_type": "stream",
     "text": [
      "\u001b[32m2024-09-10 21:54:18.178\u001b[0m | \u001b[1mINFO    \u001b[0m | \u001b[36m__main__\u001b[0m:\u001b[36m<module>\u001b[0m:\u001b[36m26\u001b[0m - \u001b[1m202407 : 11650 COMPLETE\u001b[0m\n"
     ]
    },
    {
     "name": "stdout",
     "output_type": "stream",
     "text": [
      "<?xml version=\"1.0\" encoding=\"utf-8\"?>\n",
      "<response><header><resultCode>000</resultCode><resultMsg>OK</resultMsg></header><body><items/><numOfRows>10</numOfRows><pageNo>1</pageNo><totalCount>0</totalCount></body></response>\n",
      "0\n",
      "11140\n",
      "202407\n"
     ]
    },
    {
     "name": "stderr",
     "output_type": "stream",
     "text": [
      "\u001b[32m2024-09-10 21:54:18.386\u001b[0m | \u001b[1mINFO    \u001b[0m | \u001b[36m__main__\u001b[0m:\u001b[36m<module>\u001b[0m:\u001b[36m26\u001b[0m - \u001b[1m202407 : 11140 COMPLETE\u001b[0m\n"
     ]
    },
    {
     "name": "stdout",
     "output_type": "stream",
     "text": [
      "<?xml version=\"1.0\" encoding=\"utf-8\"?>\n",
      "<response><header><resultCode>000</resultCode><resultMsg>OK</resultMsg></header><body><items/><numOfRows>10</numOfRows><pageNo>1</pageNo><totalCount>0</totalCount></body></response>\n",
      "0\n",
      "11530\n",
      "202407\n"
     ]
    },
    {
     "name": "stderr",
     "output_type": "stream",
     "text": [
      "\u001b[32m2024-09-10 21:54:18.723\u001b[0m | \u001b[1mINFO    \u001b[0m | \u001b[36m__main__\u001b[0m:\u001b[36m<module>\u001b[0m:\u001b[36m26\u001b[0m - \u001b[1m202407 : 11530 COMPLETE\u001b[0m\n"
     ]
    },
    {
     "name": "stdout",
     "output_type": "stream",
     "text": [
      "<?xml version=\"1.0\" encoding=\"utf-8\"?>\n",
      "<response><header><resultCode>000</resultCode><resultMsg>OK</resultMsg></header><body><items/><numOfRows>10</numOfRows><pageNo>1</pageNo><totalCount>0</totalCount></body></response>\n",
      "0\n",
      "11410\n",
      "202407\n"
     ]
    },
    {
     "name": "stderr",
     "output_type": "stream",
     "text": [
      "\u001b[32m2024-09-10 21:54:18.971\u001b[0m | \u001b[1mINFO    \u001b[0m | \u001b[36m__main__\u001b[0m:\u001b[36m<module>\u001b[0m:\u001b[36m26\u001b[0m - \u001b[1m202407 : 11410 COMPLETE\u001b[0m\n"
     ]
    },
    {
     "name": "stdout",
     "output_type": "stream",
     "text": [
      "<?xml version=\"1.0\" encoding=\"utf-8\"?>\n",
      "<response><header><resultCode>000</resultCode><resultMsg>OK</resultMsg></header><body><items/><numOfRows>10</numOfRows><pageNo>1</pageNo><totalCount>0</totalCount></body></response>\n",
      "0\n",
      "11545\n",
      "202407\n"
     ]
    },
    {
     "name": "stderr",
     "output_type": "stream",
     "text": [
      "\u001b[32m2024-09-10 21:54:19.313\u001b[0m | \u001b[1mINFO    \u001b[0m | \u001b[36m__main__\u001b[0m:\u001b[36m<module>\u001b[0m:\u001b[36m26\u001b[0m - \u001b[1m202407 : 11545 COMPLETE\u001b[0m\n",
      "\u001b[32m2024-09-10 21:54:19.475\u001b[0m | \u001b[1mINFO    \u001b[0m | \u001b[36m__main__\u001b[0m:\u001b[36m<module>\u001b[0m:\u001b[36m26\u001b[0m - \u001b[1m202407 : 11290 COMPLETE\u001b[0m\n"
     ]
    },
    {
     "name": "stdout",
     "output_type": "stream",
     "text": [
      "<?xml version=\"1.0\" encoding=\"utf-8\"?>\n",
      "<response><header><resultCode>000</resultCode><resultMsg>OK</resultMsg></header><body><items/><numOfRows>10</numOfRows><pageNo>1</pageNo><totalCount>0</totalCount></body></response>\n",
      "0\n",
      "11290\n",
      "202407\n",
      "<?xml version=\"1.0\" encoding=\"utf-8\"?>\n",
      "<response><header><resultCode>000</resultCode><resultMsg>OK</resultMsg></header><body><items/><numOfRows>10</numOfRows><pageNo>1</pageNo><totalCount>0</totalCount></body></response>\n",
      "0\n",
      "11680\n",
      "202407\n"
     ]
    },
    {
     "name": "stderr",
     "output_type": "stream",
     "text": [
      "\u001b[32m2024-09-10 21:54:19.748\u001b[0m | \u001b[1mINFO    \u001b[0m | \u001b[36m__main__\u001b[0m:\u001b[36m<module>\u001b[0m:\u001b[36m26\u001b[0m - \u001b[1m202407 : 11680 COMPLETE\u001b[0m\n",
      "\u001b[32m2024-09-10 21:54:19.943\u001b[0m | \u001b[1mINFO    \u001b[0m | \u001b[36m__main__\u001b[0m:\u001b[36m<module>\u001b[0m:\u001b[36m26\u001b[0m - \u001b[1m202407 : 11170 COMPLETE\u001b[0m\n"
     ]
    },
    {
     "name": "stdout",
     "output_type": "stream",
     "text": [
      "<?xml version=\"1.0\" encoding=\"utf-8\"?>\n",
      "<response><header><resultCode>000</resultCode><resultMsg>OK</resultMsg></header><body><items/><numOfRows>10</numOfRows><pageNo>1</pageNo><totalCount>0</totalCount></body></response>\n",
      "0\n",
      "11170\n",
      "202407\n",
      "<?xml version=\"1.0\" encoding=\"utf-8\"?>\n",
      "<response><header><resultCode>000</resultCode><resultMsg>OK</resultMsg></header><body><items/><numOfRows>10</numOfRows><pageNo>1</pageNo><totalCount>0</totalCount></body></response>\n",
      "0\n",
      "11560\n",
      "202407\n"
     ]
    },
    {
     "name": "stderr",
     "output_type": "stream",
     "text": [
      "\u001b[32m2024-09-10 21:54:20.141\u001b[0m | \u001b[1mINFO    \u001b[0m | \u001b[36m__main__\u001b[0m:\u001b[36m<module>\u001b[0m:\u001b[36m26\u001b[0m - \u001b[1m202407 : 11560 COMPLETE\u001b[0m\n"
     ]
    },
    {
     "name": "stdout",
     "output_type": "stream",
     "text": [
      "<?xml version=\"1.0\" encoding=\"utf-8\"?>\n",
      "<response><header><resultCode>000</resultCode><resultMsg>OK</resultMsg></header><body><items/><numOfRows>10</numOfRows><pageNo>1</pageNo><totalCount>0</totalCount></body></response>\n",
      "0\n",
      "11305\n",
      "202407\n"
     ]
    },
    {
     "name": "stderr",
     "output_type": "stream",
     "text": [
      "\u001b[32m2024-09-10 21:54:20.399\u001b[0m | \u001b[1mINFO    \u001b[0m | \u001b[36m__main__\u001b[0m:\u001b[36m<module>\u001b[0m:\u001b[36m26\u001b[0m - \u001b[1m202407 : 11305 COMPLETE\u001b[0m\n",
      "\u001b[32m2024-09-10 21:54:20.574\u001b[0m | \u001b[1mINFO    \u001b[0m | \u001b[36m__main__\u001b[0m:\u001b[36m<module>\u001b[0m:\u001b[36m26\u001b[0m - \u001b[1m202407 : 11440 COMPLETE\u001b[0m\n"
     ]
    },
    {
     "name": "stdout",
     "output_type": "stream",
     "text": [
      "<?xml version=\"1.0\" encoding=\"utf-8\"?>\n",
      "<response><header><resultCode>000</resultCode><resultMsg>OK</resultMsg></header><body><items/><numOfRows>10</numOfRows><pageNo>1</pageNo><totalCount>0</totalCount></body></response>\n",
      "0\n",
      "11440\n",
      "202407\n",
      "<?xml version=\"1.0\" encoding=\"utf-8\"?>\n",
      "<response><header><resultCode>000</resultCode><resultMsg>OK</resultMsg></header><body><items/><numOfRows>10</numOfRows><pageNo>1</pageNo><totalCount>0</totalCount></body></response>\n",
      "0\n",
      "11320\n",
      "202407\n"
     ]
    },
    {
     "name": "stderr",
     "output_type": "stream",
     "text": [
      "\u001b[32m2024-09-10 21:54:20.839\u001b[0m | \u001b[1mINFO    \u001b[0m | \u001b[36m__main__\u001b[0m:\u001b[36m<module>\u001b[0m:\u001b[36m26\u001b[0m - \u001b[1m202407 : 11320 COMPLETE\u001b[0m\n"
     ]
    },
    {
     "name": "stdout",
     "output_type": "stream",
     "text": [
      "<?xml version=\"1.0\" encoding=\"utf-8\"?>\n",
      "<response><header><resultCode>000</resultCode><resultMsg>OK</resultMsg></header><body><items/><numOfRows>10</numOfRows><pageNo>1</pageNo><totalCount>0</totalCount></body></response>\n",
      "0\n",
      "11710\n",
      "202407\n"
     ]
    },
    {
     "name": "stderr",
     "output_type": "stream",
     "text": [
      "\u001b[32m2024-09-10 21:54:21.050\u001b[0m | \u001b[1mINFO    \u001b[0m | \u001b[36m__main__\u001b[0m:\u001b[36m<module>\u001b[0m:\u001b[36m26\u001b[0m - \u001b[1m202407 : 11710 COMPLETE\u001b[0m\n",
      "\u001b[32m2024-09-10 21:54:21.199\u001b[0m | \u001b[1mINFO    \u001b[0m | \u001b[36m__main__\u001b[0m:\u001b[36m<module>\u001b[0m:\u001b[36m26\u001b[0m - \u001b[1m202407 : 11200 COMPLETE\u001b[0m\n"
     ]
    },
    {
     "name": "stdout",
     "output_type": "stream",
     "text": [
      "<?xml version=\"1.0\" encoding=\"utf-8\"?>\n",
      "<response><header><resultCode>000</resultCode><resultMsg>OK</resultMsg></header><body><items/><numOfRows>10</numOfRows><pageNo>1</pageNo><totalCount>0</totalCount></body></response>\n",
      "0\n",
      "11200\n",
      "202407\n",
      "<?xml version=\"1.0\" encoding=\"utf-8\"?>\n",
      "<response><header><resultCode>000</resultCode><resultMsg>OK</resultMsg></header><body><items/><numOfRows>10</numOfRows><pageNo>1</pageNo><totalCount>0</totalCount></body></response>\n",
      "0\n",
      "11590\n",
      "202407\n"
     ]
    },
    {
     "name": "stderr",
     "output_type": "stream",
     "text": [
      "\u001b[32m2024-09-10 21:54:21.464\u001b[0m | \u001b[1mINFO    \u001b[0m | \u001b[36m__main__\u001b[0m:\u001b[36m<module>\u001b[0m:\u001b[36m26\u001b[0m - \u001b[1m202407 : 11590 COMPLETE\u001b[0m\n",
      "\u001b[32m2024-09-10 21:54:21.630\u001b[0m | \u001b[1mINFO    \u001b[0m | \u001b[36m__main__\u001b[0m:\u001b[36m<module>\u001b[0m:\u001b[36m26\u001b[0m - \u001b[1m202407 : 11470 COMPLETE\u001b[0m\n"
     ]
    },
    {
     "name": "stdout",
     "output_type": "stream",
     "text": [
      "<?xml version=\"1.0\" encoding=\"utf-8\"?>\n",
      "<response><header><resultCode>000</resultCode><resultMsg>OK</resultMsg></header><body><items/><numOfRows>10</numOfRows><pageNo>1</pageNo><totalCount>0</totalCount></body></response>\n",
      "0\n",
      "11470\n",
      "202407\n",
      "<?xml version=\"1.0\" encoding=\"utf-8\"?>\n",
      "<response><header><resultCode>000</resultCode><resultMsg>OK</resultMsg></header><body><items/><numOfRows>10</numOfRows><pageNo>1</pageNo><totalCount>0</totalCount></body></response>\n",
      "0\n",
      "11215\n",
      "202407\n"
     ]
    },
    {
     "name": "stderr",
     "output_type": "stream",
     "text": [
      "\u001b[32m2024-09-10 21:54:21.890\u001b[0m | \u001b[1mINFO    \u001b[0m | \u001b[36m__main__\u001b[0m:\u001b[36m<module>\u001b[0m:\u001b[36m26\u001b[0m - \u001b[1m202407 : 11215 COMPLETE\u001b[0m\n",
      "\u001b[32m2024-09-10 21:54:22.064\u001b[0m | \u001b[1mINFO    \u001b[0m | \u001b[36m__main__\u001b[0m:\u001b[36m<module>\u001b[0m:\u001b[36m26\u001b[0m - \u001b[1m202407 : 11350 COMPLETE\u001b[0m\n"
     ]
    },
    {
     "name": "stdout",
     "output_type": "stream",
     "text": [
      "<?xml version=\"1.0\" encoding=\"utf-8\"?>\n",
      "<response><header><resultCode>000</resultCode><resultMsg>OK</resultMsg></header><body><items/><numOfRows>10</numOfRows><pageNo>1</pageNo><totalCount>0</totalCount></body></response>\n",
      "0\n",
      "11350\n",
      "202407\n",
      "<?xml version=\"1.0\" encoding=\"utf-8\"?>\n",
      "<response><header><resultCode>000</resultCode><resultMsg>OK</resultMsg></header><body><items/><numOfRows>10</numOfRows><pageNo>1</pageNo><totalCount>0</totalCount></body></response>\n",
      "0\n",
      "11740\n",
      "202407\n"
     ]
    },
    {
     "name": "stderr",
     "output_type": "stream",
     "text": [
      "\u001b[32m2024-09-10 21:54:22.249\u001b[0m | \u001b[1mINFO    \u001b[0m | \u001b[36m__main__\u001b[0m:\u001b[36m<module>\u001b[0m:\u001b[36m26\u001b[0m - \u001b[1m202407 : 11740 COMPLETE\u001b[0m\n"
     ]
    },
    {
     "name": "stdout",
     "output_type": "stream",
     "text": [
      "<?xml version=\"1.0\" encoding=\"utf-8\"?>\n",
      "<response><header><resultCode>000</resultCode><resultMsg>OK</resultMsg></header><body><items/><numOfRows>10</numOfRows><pageNo>1</pageNo><totalCount>0</totalCount></body></response>\n",
      "0\n",
      "11230\n",
      "202407\n"
     ]
    },
    {
     "name": "stderr",
     "output_type": "stream",
     "text": [
      "\u001b[32m2024-09-10 21:54:22.537\u001b[0m | \u001b[1mINFO    \u001b[0m | \u001b[36m__main__\u001b[0m:\u001b[36m<module>\u001b[0m:\u001b[36m26\u001b[0m - \u001b[1m202407 : 11230 COMPLETE\u001b[0m\n"
     ]
    },
    {
     "name": "stdout",
     "output_type": "stream",
     "text": [
      "<?xml version=\"1.0\" encoding=\"utf-8\"?>\n",
      "<response><header><resultCode>000</resultCode><resultMsg>OK</resultMsg></header><body><items/><numOfRows>10</numOfRows><pageNo>1</pageNo><totalCount>0</totalCount></body></response>\n",
      "0\n",
      "11620\n",
      "202407\n",
      "<?xml version=\"1.0\" encoding=\"utf-8\"?>\n",
      "<response><header><resultCode>000</resultCode><resultMsg>OK</resultMsg></header><body><items/><numOfRows>10</numOfRows><pageNo>1</pageNo><totalCount>0</totalCount></body></response>\n",
      "0\n"
     ]
    },
    {
     "name": "stderr",
     "output_type": "stream",
     "text": [
      "\u001b[32m2024-09-10 21:54:22.740\u001b[0m | \u001b[1mINFO    \u001b[0m | \u001b[36m__main__\u001b[0m:\u001b[36m<module>\u001b[0m:\u001b[36m26\u001b[0m - \u001b[1m202407 : 11620 COMPLETE\u001b[0m\n"
     ]
    },
    {
     "name": "stdout",
     "output_type": "stream",
     "text": [
      "11110\n",
      "202407\n"
     ]
    },
    {
     "name": "stderr",
     "output_type": "stream",
     "text": [
      "\u001b[32m2024-09-10 21:54:23.043\u001b[0m | \u001b[1mINFO    \u001b[0m | \u001b[36m__main__\u001b[0m:\u001b[36m<module>\u001b[0m:\u001b[36m26\u001b[0m - \u001b[1m202407 : 11110 COMPLETE\u001b[0m\n",
      "\u001b[32m2024-09-10 21:54:23.224\u001b[0m | \u001b[1mINFO    \u001b[0m | \u001b[36m__main__\u001b[0m:\u001b[36m<module>\u001b[0m:\u001b[36m26\u001b[0m - \u001b[1m202407 : 11500 COMPLETE\u001b[0m\n"
     ]
    },
    {
     "name": "stdout",
     "output_type": "stream",
     "text": [
      "<?xml version=\"1.0\" encoding=\"utf-8\"?>\n",
      "<response><header><resultCode>000</resultCode><resultMsg>OK</resultMsg></header><body><items/><numOfRows>10</numOfRows><pageNo>1</pageNo><totalCount>0</totalCount></body></response>\n",
      "0\n",
      "11500\n",
      "202407\n",
      "<?xml version=\"1.0\" encoding=\"utf-8\"?>\n",
      "<response><header><resultCode>000</resultCode><resultMsg>OK</resultMsg></header><body><items/><numOfRows>10</numOfRows><pageNo>1</pageNo><totalCount>0</totalCount></body></response>\n",
      "0\n",
      "11380\n",
      "202407\n"
     ]
    },
    {
     "name": "stderr",
     "output_type": "stream",
     "text": [
      "\u001b[32m2024-09-10 21:54:23.555\u001b[0m | \u001b[1mINFO    \u001b[0m | \u001b[36m__main__\u001b[0m:\u001b[36m<module>\u001b[0m:\u001b[36m26\u001b[0m - \u001b[1m202407 : 11380 COMPLETE\u001b[0m\n",
      "\u001b[32m2024-09-10 21:54:23.706\u001b[0m | \u001b[1mINFO    \u001b[0m | \u001b[36m__main__\u001b[0m:\u001b[36m<module>\u001b[0m:\u001b[36m26\u001b[0m - \u001b[1m202407 : 11000 COMPLETE\u001b[0m\n"
     ]
    },
    {
     "name": "stdout",
     "output_type": "stream",
     "text": [
      "<?xml version=\"1.0\" encoding=\"utf-8\"?>\n",
      "<response><header><resultCode>000</resultCode><resultMsg>OK</resultMsg></header><body><items/><numOfRows>10</numOfRows><pageNo>1</pageNo><totalCount>0</totalCount></body></response>\n",
      "0\n",
      "11000\n",
      "202407\n",
      "<?xml version=\"1.0\" encoding=\"utf-8\"?>\n",
      "<response><header><resultCode>000</resultCode><resultMsg>OK</resultMsg></header><body><items/><numOfRows>10</numOfRows><pageNo>1</pageNo><totalCount>0</totalCount></body></response>\n",
      "0\n",
      "11260\n",
      "202407\n"
     ]
    },
    {
     "name": "stderr",
     "output_type": "stream",
     "text": [
      "\u001b[32m2024-09-10 21:54:23.980\u001b[0m | \u001b[1mINFO    \u001b[0m | \u001b[36m__main__\u001b[0m:\u001b[36m<module>\u001b[0m:\u001b[36m26\u001b[0m - \u001b[1m202407 : 11260 COMPLETE\u001b[0m\n"
     ]
    },
    {
     "name": "stdout",
     "output_type": "stream",
     "text": [
      "<?xml version=\"1.0\" encoding=\"utf-8\"?>\n",
      "<response><header><resultCode>000</resultCode><resultMsg>OK</resultMsg></header><body><items/><numOfRows>10</numOfRows><pageNo>1</pageNo><totalCount>0</totalCount></body></response>\n",
      "0\n"
     ]
    }
   ],
   "source": [
    "lawd_cd_list = get_lawd_cd(\"./src/LAWD_CD.txt\")\n",
    "for l in lawd_cd_list:\n",
    "    lawd_cd = l\n",
    "    deal_ymd = \"202407\"\n",
    "    \n",
    "    sentinel = get(LAWD_CD=lawd_cd, DEAL_YMD=deal_ymd, pageNo=1, numOfRows=10)\n",
    "    soup = BeautifulSoup(sentinel.text, 'xml')\n",
    "    total_cnt = int(soup.totalCount.get_text()) # 전체 건수\n",
    "    iteration = (total_cnt // 1000) + 1 # 1000 row마다 request할 때 iteration 수\n",
    "    \n",
    "    if total_cnt > 0:\n",
    "        for i in range(1, iteration+1):\n",
    "            response = get(LAWD_CD=lawd_cd, DEAL_YMD=deal_ymd, pageNo=i, numOfRows=1000)\n",
    "            if i == 1:\n",
    "                result_df = parse_xml(response.text)\n",
    "            else:\n",
    "                result_df = pd.concat([result_df, parse_xml(response.text)])\n",
    "    else:\n",
    "        result_df = None\n",
    "\n",
    "    logger.info(f\"{deal_ymd} : {lawd_cd} COMPLETE\")"
   ]
  },
  {
   "cell_type": "code",
   "execution_count": 34,
   "id": "bc9a8cd5-fdb0-4c51-9917-12f236a86fd9",
   "metadata": {
    "execution": {
     "iopub.execute_input": "2024-09-10T12:51:48.634998Z",
     "iopub.status.busy": "2024-09-10T12:51:48.634214Z",
     "iopub.status.idle": "2024-09-10T12:51:48.643454Z",
     "shell.execute_reply": "2024-09-10T12:51:48.642394Z",
     "shell.execute_reply.started": "2024-09-10T12:51:48.634945Z"
    },
    "tags": []
   },
   "outputs": [],
   "source": [
    "result_df"
   ]
  }
 ],
 "metadata": {
  "kernelspec": {
   "display_name": "Python 3 (ipykernel)",
   "language": "python",
   "name": "python3"
  },
  "language_info": {
   "codemirror_mode": {
    "name": "ipython",
    "version": 3
   },
   "file_extension": ".py",
   "mimetype": "text/x-python",
   "name": "python",
   "nbconvert_exporter": "python",
   "pygments_lexer": "ipython3",
   "version": "3.11.5"
  }
 },
 "nbformat": 4,
 "nbformat_minor": 5
}
