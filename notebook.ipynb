{
 "cells": [
  {
   "cell_type": "code",
   "execution_count": 152,
   "id": "7ebbfaa8-e168-49f8-9d52-2ff0eb00a261",
   "metadata": {
    "execution": {
     "iopub.execute_input": "2024-09-15T15:16:20.630088Z",
     "iopub.status.busy": "2024-09-15T15:16:20.628808Z",
     "iopub.status.idle": "2024-09-15T15:16:20.654269Z",
     "shell.execute_reply": "2024-09-15T15:16:20.653892Z",
     "shell.execute_reply.started": "2024-09-15T15:16:20.630015Z"
    },
    "tags": []
   },
   "outputs": [],
   "source": [
    "df = pd.read_csv(\"src/data/2024-09-16/202409.csv\")"
   ]
  },
  {
   "cell_type": "code",
   "execution_count": 154,
   "id": "4c5745c2-9a9c-41da-8051-e702102fb5a0",
   "metadata": {
    "execution": {
     "iopub.execute_input": "2024-09-15T15:16:28.378254Z",
     "iopub.status.busy": "2024-09-15T15:16:28.377034Z",
     "iopub.status.idle": "2024-09-15T15:16:28.384413Z",
     "shell.execute_reply": "2024-09-15T15:16:28.383552Z",
     "shell.execute_reply.started": "2024-09-15T15:16:28.378180Z"
    },
    "tags": []
   },
   "outputs": [
    {
     "data": {
      "text/plain": [
       "476"
      ]
     },
     "execution_count": 154,
     "metadata": {},
     "output_type": "execute_result"
    }
   ],
   "source": [
    "len(df)"
   ]
  },
  {
   "cell_type": "code",
   "execution_count": 155,
   "id": "6d0c261a-e985-4425-af0e-2bd9b059b966",
   "metadata": {
    "execution": {
     "iopub.execute_input": "2024-09-15T15:16:35.110737Z",
     "iopub.status.busy": "2024-09-15T15:16:35.110123Z",
     "iopub.status.idle": "2024-09-15T15:16:35.126025Z",
     "shell.execute_reply": "2024-09-15T15:16:35.125301Z",
     "shell.execute_reply.started": "2024-09-15T15:16:35.110696Z"
    },
    "tags": []
   },
   "outputs": [],
   "source": [
    "df = pd.read_csv(\"src/data/2024-09-12/202409.csv\")"
   ]
  },
  {
   "cell_type": "code",
   "execution_count": 157,
   "id": "dad12250-12b1-4995-8e1e-b33487c5e278",
   "metadata": {
    "execution": {
     "iopub.execute_input": "2024-09-15T15:16:40.447230Z",
     "iopub.status.busy": "2024-09-15T15:16:40.446514Z",
     "iopub.status.idle": "2024-09-15T15:16:40.455291Z",
     "shell.execute_reply": "2024-09-15T15:16:40.454454Z",
     "shell.execute_reply.started": "2024-09-15T15:16:40.447161Z"
    },
    "tags": []
   },
   "outputs": [
    {
     "data": {
      "text/plain": [
       "224"
      ]
     },
     "execution_count": 157,
     "metadata": {},
     "output_type": "execute_result"
    }
   ],
   "source": [
    "len(df)"
   ]
  },
  {
   "cell_type": "code",
   "execution_count": null,
   "id": "0e636053-7ecc-48d6-9305-9558aa5eed9a",
   "metadata": {},
   "outputs": [],
   "source": []
  }
 ],
 "metadata": {
  "kernelspec": {
   "display_name": "Python 3 (ipykernel)",
   "language": "python",
   "name": "python3"
  },
  "language_info": {
   "codemirror_mode": {
    "name": "ipython",
    "version": 3
   },
   "file_extension": ".py",
   "mimetype": "text/x-python",
   "name": "python",
   "nbconvert_exporter": "python",
   "pygments_lexer": "ipython3",
   "version": "3.10.14"
  }
 },
 "nbformat": 4,
 "nbformat_minor": 5
}
