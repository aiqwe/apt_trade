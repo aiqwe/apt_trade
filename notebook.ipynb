{
 "cells": [
  {
   "cell_type": "code",
   "execution_count": 2,
   "id": "fe7bb157-1818-4a3e-91b8-97ee340b6adc",
   "metadata": {
    "execution": {
     "iopub.execute_input": "2024-09-10T17:26:10.151198Z",
     "iopub.status.busy": "2024-09-10T17:26:10.150642Z",
     "iopub.status.idle": "2024-09-10T17:26:10.156796Z",
     "shell.execute_reply": "2024-09-10T17:26:10.155604Z",
     "shell.execute_reply.started": "2024-09-10T17:26:10.151160Z"
    },
    "tags": []
   },
   "outputs": [],
   "source": [
    "import pandas as pd"
   ]
  },
  {
   "cell_type": "code",
   "execution_count": 3,
   "id": "9cf96c3b-0176-4573-8109-c53ec412bc72",
   "metadata": {
    "execution": {
     "iopub.execute_input": "2024-09-10T17:26:11.954282Z",
     "iopub.status.busy": "2024-09-10T17:26:11.953677Z",
     "iopub.status.idle": "2024-09-10T17:26:11.969699Z",
     "shell.execute_reply": "2024-09-10T17:26:11.968969Z",
     "shell.execute_reply.started": "2024-09-10T17:26:11.954225Z"
    },
    "tags": []
   },
   "outputs": [],
   "source": [
    "df = pd.read_csv(\"./src/data/2024-09-11/202409.csv\")"
   ]
  },
  {
   "cell_type": "code",
   "execution_count": 4,
   "id": "3b9bb359-dc91-420c-8c1c-0e54ef1d07fe",
   "metadata": {
    "execution": {
     "iopub.execute_input": "2024-09-10T17:26:12.232433Z",
     "iopub.status.busy": "2024-09-10T17:26:12.231837Z",
     "iopub.status.idle": "2024-09-10T17:26:12.236714Z",
     "shell.execute_reply": "2024-09-10T17:26:12.235764Z",
     "shell.execute_reply.started": "2024-09-10T17:26:12.232391Z"
    },
    "tags": []
   },
   "outputs": [],
   "source": [
    "pd.set_option(\"display.max_columns\", None)"
   ]
  },
  {
   "cell_type": "code",
   "execution_count": 5,
   "id": "e753223e-8f97-4be7-a4c6-8ffc9517467c",
   "metadata": {
    "execution": {
     "iopub.execute_input": "2024-09-10T17:26:12.631418Z",
     "iopub.status.busy": "2024-09-10T17:26:12.630905Z",
     "iopub.status.idle": "2024-09-10T17:26:12.657888Z",
     "shell.execute_reply": "2024-09-10T17:26:12.657506Z",
     "shell.execute_reply.started": "2024-09-10T17:26:12.631383Z"
    },
    "tags": []
   },
   "outputs": [
    {
     "data": {
      "text/html": [
       "<div>\n",
       "<style scoped>\n",
       "    .dataframe tbody tr th:only-of-type {\n",
       "        vertical-align: middle;\n",
       "    }\n",
       "\n",
       "    .dataframe tbody tr th {\n",
       "        vertical-align: top;\n",
       "    }\n",
       "\n",
       "    .dataframe thead th {\n",
       "        text-align: right;\n",
       "    }\n",
       "</style>\n",
       "<table border=\"1\" class=\"dataframe\">\n",
       "  <thead>\n",
       "    <tr style=\"text-align: right;\">\n",
       "      <th></th>\n",
       "      <th>aptDong</th>\n",
       "      <th>aptNm</th>\n",
       "      <th>aptSeq</th>\n",
       "      <th>bonbun</th>\n",
       "      <th>bubun</th>\n",
       "      <th>buildYear</th>\n",
       "      <th>buyerGbn</th>\n",
       "      <th>cdealDay</th>\n",
       "      <th>cdealType</th>\n",
       "      <th>dealAmount</th>\n",
       "      <th>dealDay</th>\n",
       "      <th>dealMonth</th>\n",
       "      <th>dealYear</th>\n",
       "      <th>dealingGbn</th>\n",
       "      <th>estateAgentSggNm</th>\n",
       "      <th>excluUseAr</th>\n",
       "      <th>floor</th>\n",
       "      <th>jibun</th>\n",
       "      <th>landCd</th>\n",
       "      <th>landLeaseholdGbn</th>\n",
       "      <th>rgstDate</th>\n",
       "      <th>roadNm</th>\n",
       "      <th>roadNmBonbun</th>\n",
       "      <th>roadNmBubun</th>\n",
       "      <th>roadNmCd</th>\n",
       "      <th>roadNmSeq</th>\n",
       "      <th>roadNmSggCd</th>\n",
       "      <th>roadNmbCd</th>\n",
       "      <th>sggCd</th>\n",
       "      <th>slerGbn</th>\n",
       "      <th>umdCd</th>\n",
       "      <th>umdNm</th>\n",
       "      <th>date_id</th>\n",
       "    </tr>\n",
       "  </thead>\n",
       "  <tbody>\n",
       "    <tr>\n",
       "      <th>72</th>\n",
       "      <td></td>\n",
       "      <td>헬리오시티</td>\n",
       "      <td>11710-8865</td>\n",
       "      <td>913</td>\n",
       "      <td>0</td>\n",
       "      <td>2018</td>\n",
       "      <td>개인</td>\n",
       "      <td></td>\n",
       "      <td></td>\n",
       "      <td>190,000</td>\n",
       "      <td>3</td>\n",
       "      <td>9</td>\n",
       "      <td>2024</td>\n",
       "      <td>직거래</td>\n",
       "      <td></td>\n",
       "      <td>99.60</td>\n",
       "      <td>27</td>\n",
       "      <td>913</td>\n",
       "      <td>1</td>\n",
       "      <td>N</td>\n",
       "      <td></td>\n",
       "      <td>송파대로</td>\n",
       "      <td>345</td>\n",
       "      <td>0</td>\n",
       "      <td>2005011</td>\n",
       "      <td>0</td>\n",
       "      <td>11710</td>\n",
       "      <td>NaN</td>\n",
       "      <td>11710</td>\n",
       "      <td>개인</td>\n",
       "      <td>10700</td>\n",
       "      <td>가락동</td>\n",
       "      <td>2024-09-11</td>\n",
       "    </tr>\n",
       "    <tr>\n",
       "      <th>73</th>\n",
       "      <td></td>\n",
       "      <td>우성</td>\n",
       "      <td>11710-61</td>\n",
       "      <td>96</td>\n",
       "      <td>1</td>\n",
       "      <td>1986</td>\n",
       "      <td>개인</td>\n",
       "      <td></td>\n",
       "      <td></td>\n",
       "      <td>121,000</td>\n",
       "      <td>1</td>\n",
       "      <td>9</td>\n",
       "      <td>2024</td>\n",
       "      <td>중개거래</td>\n",
       "      <td>서울 송파구</td>\n",
       "      <td>58.46</td>\n",
       "      <td>5</td>\n",
       "      <td>96-1</td>\n",
       "      <td>1</td>\n",
       "      <td>N</td>\n",
       "      <td></td>\n",
       "      <td>송파대로32길</td>\n",
       "      <td>8</td>\n",
       "      <td>0</td>\n",
       "      <td>4169335</td>\n",
       "      <td>1</td>\n",
       "      <td>11710</td>\n",
       "      <td>0.0</td>\n",
       "      <td>11710</td>\n",
       "      <td>개인</td>\n",
       "      <td>10700</td>\n",
       "      <td>가락동</td>\n",
       "      <td>2024-09-11</td>\n",
       "    </tr>\n",
       "  </tbody>\n",
       "</table>\n",
       "</div>"
      ],
      "text/plain": [
       "   aptDong  aptNm      aptSeq  bonbun  bubun  buildYear buyerGbn cdealDay  \\\n",
       "72          헬리오시티  11710-8865     913      0       2018       개인            \n",
       "73             우성    11710-61      96      1       1986       개인            \n",
       "\n",
       "   cdealType dealAmount  dealDay  dealMonth  dealYear dealingGbn  \\\n",
       "72              190,000        3          9      2024        직거래   \n",
       "73              121,000        1          9      2024       중개거래   \n",
       "\n",
       "   estateAgentSggNm  excluUseAr  floor jibun  landCd landLeaseholdGbn  \\\n",
       "72                        99.60     27   913       1                N   \n",
       "73           서울 송파구       58.46      5  96-1       1                N   \n",
       "\n",
       "   rgstDate   roadNm  roadNmBonbun  roadNmBubun  roadNmCd  roadNmSeq  \\\n",
       "72              송파대로           345            0   2005011          0   \n",
       "73           송파대로32길             8            0   4169335          1   \n",
       "\n",
       "    roadNmSggCd  roadNmbCd  sggCd slerGbn  umdCd umdNm     date_id  \n",
       "72        11710        NaN  11710      개인  10700   가락동  2024-09-11  \n",
       "73        11710        0.0  11710      개인  10700   가락동  2024-09-11  "
      ]
     },
     "execution_count": 5,
     "metadata": {},
     "output_type": "execute_result"
    }
   ],
   "source": [
    "df[df['umdNm'] == '가락동']"
   ]
  }
 ],
 "metadata": {
  "kernelspec": {
   "display_name": "Python 3 (ipykernel)",
   "language": "python",
   "name": "python3"
  },
  "language_info": {
   "codemirror_mode": {
    "name": "ipython",
    "version": 3
   },
   "file_extension": ".py",
   "mimetype": "text/x-python",
   "name": "python",
   "nbconvert_exporter": "python",
   "pygments_lexer": "ipython3",
   "version": "3.10.14"
  }
 },
 "nbformat": 4,
 "nbformat_minor": 5
}
